{
 "cells": [
  {
   "cell_type": "markdown",
   "metadata": {
    "papermill": {
     "duration": 0.035042,
     "end_time": "2023-05-09T12:50:46.534611",
     "exception": false,
     "start_time": "2023-05-09T12:50:46.499569",
     "status": "completed"
    },
    "tags": []
   },
   "source": [
    "In this notebook we are walking through the data analysis example of chapter 14 from the book Python for Data Analysis by Wes McKinney from 2018.\n",
    "The original code example can be found here: https://github.com/wesm/pydata-book/blob/2nd-edition/ch14.ipynb\n",
    "\n",
    "**Instead of using Python pandas for the data analysis, we replicate the data analysis with Pyspark.** The corresponsing pandas notebook you can find here: https://www.kaggle.com/christine12/movielens-1m-dataset-python-pandas\n"
   ]
  },
  {
   "cell_type": "code",
   "execution_count": 10,
   "metadata": {
    "execution": {
     "iopub.execute_input": "2023-05-09T12:50:46.744595Z",
     "iopub.status.busy": "2023-05-09T12:50:46.743599Z",
     "iopub.status.idle": "2023-05-09T12:51:36.943573Z",
     "shell.execute_reply": "2023-05-09T12:51:36.942933Z",
     "shell.execute_reply.started": "2023-05-09T12:08:06.165589Z"
    },
    "papermill": {
     "duration": 50.234416,
     "end_time": "2023-05-09T12:51:36.943749",
     "exception": false,
     "start_time": "2023-05-09T12:50:46.709333",
     "status": "completed"
    },
    "tags": [],
    "ExecuteTime": {
     "end_time": "2025-02-05T08:32:20.755597Z",
     "start_time": "2025-02-05T08:32:17.128992600Z"
    }
   },
   "outputs": [
    {
     "name": "stdout",
     "output_type": "stream",
     "text": [
      "Requirement already satisfied: pyspark in d:\\anaconda3\\lib\\site-packages (3.4.1)\n",
      "Requirement already satisfied: py4j==0.10.9.7 in d:\\anaconda3\\lib\\site-packages (from pyspark) (0.10.9.7)\n",
      "Note: you may need to restart the kernel to use updated packages.\n"
     ]
    },
    {
     "name": "stderr",
     "output_type": "stream",
     "text": [
      "WARNING: Ignoring invalid distribution -etuptools (d:\\anaconda3\\lib\\site-packages)\n",
      "WARNING: Error parsing dependencies of pickleshare: [Errno 2] No such file or directory: 'd:\\\\anaconda3\\\\lib\\\\site-packages\\\\pickleshare-0.7.5.dist-info\\\\METADATA'\n",
      "WARNING: Error parsing dependencies of pyzmq: [Errno 2] No such file or directory: 'd:\\\\anaconda3\\\\lib\\\\site-packages\\\\pyzmq-25.0.2.dist-info\\\\METADATA'\n",
      "WARNING: Ignoring invalid distribution -etuptools (d:\\anaconda3\\lib\\site-packages)\n",
      "WARNING: Ignoring invalid distribution -etuptools (d:\\anaconda3\\lib\\site-packages)\n"
     ]
    }
   ],
   "source": [
    "#%pip install pyspark"
   ]
  },
  {
   "cell_type": "code",
   "execution_count": 11,
   "metadata": {
    "execution": {
     "iopub.execute_input": "2023-05-09T12:51:37.270671Z",
     "iopub.status.busy": "2023-05-09T12:51:37.269631Z",
     "iopub.status.idle": "2023-05-09T12:51:37.379075Z",
     "shell.execute_reply": "2023-05-09T12:51:37.378432Z",
     "shell.execute_reply.started": "2023-05-09T12:08:58.246996Z"
    },
    "papermill": {
     "duration": 0.270556,
     "end_time": "2023-05-09T12:51:37.379262",
     "exception": false,
     "start_time": "2023-05-09T12:51:37.108706",
     "status": "completed"
    },
    "tags": [],
    "ExecuteTime": {
     "end_time": "2025-02-05T08:32:20.809590Z",
     "start_time": "2025-02-05T08:32:20.755597Z"
    }
   },
   "outputs": [],
   "source": [
    "from pyspark import SparkContext\n",
    "from pyspark.sql import SparkSession\n",
    "from pyspark.sql.functions import *"
   ]
  },
  {
   "cell_type": "code",
   "outputs": [],
   "source": [],
   "metadata": {
    "collapsed": false,
    "ExecuteTime": {
     "end_time": "2025-02-05T08:32:20.811589900Z",
     "start_time": "2025-02-05T08:32:20.770594600Z"
    }
   },
   "execution_count": 11
  },
  {
   "cell_type": "code",
   "execution_count": 12,
   "metadata": {
    "execution": {
     "iopub.execute_input": "2023-05-09T12:51:37.686933Z",
     "iopub.status.busy": "2023-05-09T12:51:37.685940Z",
     "iopub.status.idle": "2023-05-09T12:51:43.546299Z",
     "shell.execute_reply": "2023-05-09T12:51:43.545234Z",
     "shell.execute_reply.started": "2023-05-09T12:08:58.346388Z"
    },
    "papermill": {
     "duration": 6.016305,
     "end_time": "2023-05-09T12:51:43.546467",
     "exception": false,
     "start_time": "2023-05-09T12:51:37.530162",
     "status": "completed"
    },
    "tags": [],
    "ExecuteTime": {
     "end_time": "2025-02-05T08:32:20.842618400Z",
     "start_time": "2025-02-05T08:32:20.788587500Z"
    }
   },
   "outputs": [],
   "source": [
    "spark = SparkSession.Builder().getOrCreate()"
   ]
  },
  {
   "cell_type": "code",
   "outputs": [
    {
     "data": {
      "text/plain": "<pyspark.sql.session.SparkSession at 0x1a1ecc7ef80>",
      "text/html": "\n            <div>\n                <p><b>SparkSession - in-memory</b></p>\n                \n        <div>\n            <p><b>SparkContext</b></p>\n\n            <p><a href=\"http://DESKTOP-3U4IQG2:4041\">Spark UI</a></p>\n\n            <dl>\n              <dt>Version</dt>\n                <dd><code>v3.5.4</code></dd>\n              <dt>Master</dt>\n                <dd><code>local[*]</code></dd>\n              <dt>AppName</dt>\n                <dd><code>pyspark-shell</code></dd>\n            </dl>\n        </div>\n        \n            </div>\n        "
     },
     "execution_count": 13,
     "metadata": {},
     "output_type": "execute_result"
    }
   ],
   "source": [
    "spark"
   ],
   "metadata": {
    "collapsed": false,
    "ExecuteTime": {
     "end_time": "2025-02-05T08:32:20.865623600Z",
     "start_time": "2025-02-05T08:32:20.804595200Z"
    }
   },
   "execution_count": 13
  },
  {
   "cell_type": "markdown",
   "metadata": {
    "papermill": {
     "duration": 0.15683,
     "end_time": "2023-05-09T12:51:43.858283",
     "exception": false,
     "start_time": "2023-05-09T12:51:43.701453",
     "status": "completed"
    },
    "tags": []
   },
   "source": [
    "# Import data\n",
    "\n",
    "Dataset contains user rating data for movies collected from 1990s - 2000s.\n",
    "\n",
    "movie ratings\n",
    "movie meta data like genres and year\n",
    "demographics of users age, zip code, gender identification, and occupation\n",
    "An application for this kind of data could be recommendation systems\n",
    "\n",
    "Import the 3 different files. In kaggle we need to adapt the orginal path to the data and specify the loading engine for read_table() to python to avoid warning messages."
   ]
  },
  {
   "cell_type": "markdown",
   "metadata": {
    "papermill": {
     "duration": 0.156272,
     "end_time": "2023-05-09T12:51:44.166041",
     "exception": false,
     "start_time": "2023-05-09T12:51:44.009769",
     "status": "completed"
    },
    "tags": []
   },
   "source": [
    "Import the 3 different files. In kaggle we need to adapt the orginal path to the data and specify the loading engine for read_table() to python to avoid warning messages."
   ]
  },
  {
   "cell_type": "code",
   "execution_count": 14,
   "metadata": {
    "execution": {
     "iopub.execute_input": "2023-05-09T12:51:44.484640Z",
     "iopub.status.busy": "2023-05-09T12:51:44.483832Z",
     "iopub.status.idle": "2023-05-09T12:51:54.324135Z",
     "shell.execute_reply": "2023-05-09T12:51:54.322679Z",
     "shell.execute_reply.started": "2023-05-09T12:09:03.664416Z"
    },
    "papermill": {
     "duration": 10.004523,
     "end_time": "2023-05-09T12:51:54.324361",
     "exception": false,
     "start_time": "2023-05-09T12:51:44.319838",
     "status": "completed"
    },
    "tags": [],
    "ExecuteTime": {
     "end_time": "2025-02-05T08:32:22.276580200Z",
     "start_time": "2025-02-05T08:32:20.825587700Z"
    }
   },
   "outputs": [],
   "source": [
    "from pyspark.sql.functions import col\n",
    "\n",
    "\"\"\"\n",
    "Reading csv data in spark:\n",
    "\n",
    "spark.read                         --> what do you want to do\n",
    "    .format(\"csv\")                 --> which format is the file\n",
    "    .option(\"delimiter\", \"::\")     --> specify delimiter that's used in the file\n",
    "    .option(\"inferSchema\", \"true\") --> values are read as string type by default\n",
    "    .load(path_to_file)            --> which location to load the file from\n",
    "\n",
    "\"\"\"\n",
    "unames = ['user_id', 'gender', 'age', 'occupation', 'zip']\n",
    "users_sdf = spark.read.format(\"csv\").option(\"delimiter\", \"::\").option(\"inferSchema\", \"true\").load(\"DATA SOURCE/users.dat\")\n",
    "u_cols = users_sdf.columns\n",
    "users_sdf = users_sdf.select([col(u_cols[i]).alias(unames[i]) for i in range(len(unames))])\n",
    "\n",
    "rnames = ['user_id', 'movie_id', 'rating', 'timestamp']\n",
    "ratings_sdf = spark.read.format(\"csv\").option(\"delimiter\", \"::\").option(\"inferSchema\", \"true\").load(\"DATA SOURCE/ratings.dat\")\n",
    "ratings_sdf = ratings_sdf.select([col(u_cols[i]).alias(rnames[i]) for i in range(len(rnames))])\n",
    "\n",
    "mnames = ['movie_id', 'title', 'genres']\n",
    "movies_sdf = spark.read.format(\"csv\").option(\"delimiter\", \"::\").option(\"inferSchema\", \"true\").load(\"DATA SOURCE/movies.dat\")\n",
    "movies_sdf = movies_sdf.select([col(u_cols[i]).alias(mnames[i]) for i in range(len(mnames))])\n"
   ]
  },
  {
   "cell_type": "markdown",
   "metadata": {
    "papermill": {
     "duration": 0.162689,
     "end_time": "2023-05-09T12:51:54.739034",
     "exception": false,
     "start_time": "2023-05-09T12:51:54.576345",
     "status": "completed"
    },
    "tags": []
   },
   "source": [
    "Now we can varify that the input data was loaded correcly, by having a look at the first rows of each file. "
   ]
  },
  {
   "cell_type": "code",
   "execution_count": 15,
   "metadata": {
    "execution": {
     "iopub.execute_input": "2023-05-09T12:51:55.054204Z",
     "iopub.status.busy": "2023-05-09T12:51:55.053159Z",
     "iopub.status.idle": "2023-05-09T12:51:55.371360Z",
     "shell.execute_reply": "2023-05-09T12:51:55.372115Z",
     "shell.execute_reply.started": "2023-05-09T12:09:12.675006Z"
    },
    "papermill": {
     "duration": 0.480275,
     "end_time": "2023-05-09T12:51:55.372383",
     "exception": false,
     "start_time": "2023-05-09T12:51:54.892108",
     "status": "completed"
    },
    "tags": [],
    "ExecuteTime": {
     "end_time": "2025-02-05T08:32:22.375581200Z",
     "start_time": "2025-02-05T08:32:22.272578600Z"
    }
   },
   "outputs": [
    {
     "data": {
      "text/plain": "[Row(user_id=1, gender='F', age=1, occupation=10, zip='48067'),\n Row(user_id=2, gender='M', age=56, occupation=16, zip='70072'),\n Row(user_id=3, gender='M', age=25, occupation=15, zip='55117'),\n Row(user_id=4, gender='M', age=45, occupation=7, zip='02460'),\n Row(user_id=5, gender='M', age=25, occupation=20, zip='55455')]"
     },
     "execution_count": 15,
     "metadata": {},
     "output_type": "execute_result"
    }
   ],
   "source": [
    "users_sdf.take(5)"
   ]
  },
  {
   "cell_type": "code",
   "execution_count": 16,
   "metadata": {
    "execution": {
     "iopub.execute_input": "2023-05-09T12:51:55.778186Z",
     "iopub.status.busy": "2023-05-09T12:51:55.777003Z",
     "iopub.status.idle": "2023-05-09T12:51:56.024502Z",
     "shell.execute_reply": "2023-05-09T12:51:56.023777Z",
     "shell.execute_reply.started": "2023-05-09T12:09:13.008757Z"
    },
    "papermill": {
     "duration": 0.413698,
     "end_time": "2023-05-09T12:51:56.024660",
     "exception": false,
     "start_time": "2023-05-09T12:51:55.610962",
     "status": "completed"
    },
    "tags": [],
    "ExecuteTime": {
     "end_time": "2025-02-05T08:32:22.472577800Z",
     "start_time": "2025-02-05T08:32:22.365580200Z"
    }
   },
   "outputs": [
    {
     "name": "stdout",
     "output_type": "stream",
     "text": [
      "+-------+------+---+----------+-----+\n",
      "|user_id|gender|age|occupation|  zip|\n",
      "+-------+------+---+----------+-----+\n",
      "|      1|     F|  1|        10|48067|\n",
      "|      2|     M| 56|        16|70072|\n",
      "|      3|     M| 25|        15|55117|\n",
      "|      4|     M| 45|         7|02460|\n",
      "|      5|     M| 25|        20|55455|\n",
      "+-------+------+---+----------+-----+\n"
     ]
    }
   ],
   "source": [
    "users_sdf.show(5)"
   ]
  },
  {
   "cell_type": "code",
   "execution_count": 17,
   "metadata": {
    "execution": {
     "iopub.execute_input": "2023-05-09T12:51:56.337813Z",
     "iopub.status.busy": "2023-05-09T12:51:56.336806Z",
     "iopub.status.idle": "2023-05-09T12:51:56.341853Z",
     "shell.execute_reply": "2023-05-09T12:51:56.342433Z",
     "shell.execute_reply.started": "2023-05-09T12:09:13.273026Z"
    },
    "papermill": {
     "duration": 0.162534,
     "end_time": "2023-05-09T12:51:56.342626",
     "exception": false,
     "start_time": "2023-05-09T12:51:56.180092",
     "status": "completed"
    },
    "tags": [],
    "ExecuteTime": {
     "end_time": "2025-02-05T08:32:22.533394500Z",
     "start_time": "2025-02-05T08:32:22.476580400Z"
    }
   },
   "outputs": [
    {
     "data": {
      "text/plain": "[('user_id', 'int'),\n ('gender', 'string'),\n ('age', 'int'),\n ('occupation', 'int'),\n ('zip', 'string')]"
     },
     "execution_count": 17,
     "metadata": {},
     "output_type": "execute_result"
    }
   ],
   "source": [
    "users_sdf.dtypes"
   ]
  },
  {
   "cell_type": "markdown",
   "metadata": {
    "papermill": {
     "duration": 0.153776,
     "end_time": "2023-05-09T12:51:56.654883",
     "exception": false,
     "start_time": "2023-05-09T12:51:56.501107",
     "status": "completed"
    },
    "tags": []
   },
   "source": [
    "Note: Ages and occupation are encoded as integers."
   ]
  },
  {
   "cell_type": "code",
   "execution_count": 18,
   "metadata": {
    "execution": {
     "iopub.execute_input": "2023-05-09T12:51:56.970709Z",
     "iopub.status.busy": "2023-05-09T12:51:56.970034Z",
     "iopub.status.idle": "2023-05-09T12:51:57.205846Z",
     "shell.execute_reply": "2023-05-09T12:51:57.204860Z",
     "shell.execute_reply.started": "2023-05-09T12:09:13.284036Z"
    },
    "papermill": {
     "duration": 0.396994,
     "end_time": "2023-05-09T12:51:57.206085",
     "exception": false,
     "start_time": "2023-05-09T12:51:56.809091",
     "status": "completed"
    },
    "tags": [],
    "ExecuteTime": {
     "end_time": "2025-02-05T08:32:22.744123Z",
     "start_time": "2025-02-05T08:32:22.501895900Z"
    }
   },
   "outputs": [
    {
     "name": "stdout",
     "output_type": "stream",
     "text": [
      "+-------+--------+------+---------+\n",
      "|user_id|movie_id|rating|timestamp|\n",
      "+-------+--------+------+---------+\n",
      "|      1|    1193|     5|978300760|\n",
      "|      1|     661|     3|978302109|\n",
      "|      1|     914|     3|978301968|\n",
      "|      1|    3408|     4|978300275|\n",
      "|      1|    2355|     5|978824291|\n",
      "+-------+--------+------+---------+\n"
     ]
    }
   ],
   "source": [
    "ratings_sdf.show(5)"
   ]
  },
  {
   "cell_type": "markdown",
   "metadata": {
    "papermill": {
     "duration": 0.156656,
     "end_time": "2023-05-09T12:51:57.590632",
     "exception": false,
     "start_time": "2023-05-09T12:51:57.433976",
     "status": "completed"
    },
    "tags": []
   },
   "source": [
    "Movie genre is a pipe-separated string, so analysis of genre require some transformation to bring this column in a usable form. "
   ]
  },
  {
   "cell_type": "code",
   "execution_count": 19,
   "metadata": {
    "execution": {
     "iopub.execute_input": "2023-05-09T12:51:57.918511Z",
     "iopub.status.busy": "2023-05-09T12:51:57.917373Z",
     "iopub.status.idle": "2023-05-09T12:51:58.201965Z",
     "shell.execute_reply": "2023-05-09T12:51:58.200450Z",
     "shell.execute_reply.started": "2023-05-09T12:09:13.493466Z"
    },
    "papermill": {
     "duration": 0.456112,
     "end_time": "2023-05-09T12:51:58.202224",
     "exception": false,
     "start_time": "2023-05-09T12:51:57.746112",
     "status": "completed"
    },
    "tags": [],
    "ExecuteTime": {
     "end_time": "2025-02-05T08:32:22.963488600Z",
     "start_time": "2025-02-05T08:32:22.712785400Z"
    }
   },
   "outputs": [
    {
     "name": "stdout",
     "output_type": "stream",
     "text": [
      "+--------+--------------------+--------------------+\n",
      "|movie_id|               title|              genres|\n",
      "+--------+--------------------+--------------------+\n",
      "|       1|    Toy Story (1995)|Animation|Childre...|\n",
      "|       2|      Jumanji (1995)|Adventure|Childre...|\n",
      "|       3|Grumpier Old Men ...|      Comedy|Romance|\n",
      "|       4|Waiting to Exhale...|        Comedy|Drama|\n",
      "|       5|Father of the Bri...|              Comedy|\n",
      "+--------+--------------------+--------------------+\n"
     ]
    }
   ],
   "source": [
    "movies_sdf.show(5)"
   ]
  },
  {
   "cell_type": "markdown",
   "metadata": {
    "papermill": {
     "duration": 0.179833,
     "end_time": "2023-05-09T12:51:58.624792",
     "exception": false,
     "start_time": "2023-05-09T12:51:58.444959",
     "status": "completed"
    },
    "tags": []
   },
   "source": [
    "We want to analyse the mean ratings for a specific movie by age and gender. Next we need to merge all data into one dataframe to make handling easier. Merging strategy is to first merge ratings with users and followed by merging movies. Pandas infers which columns to use for the merge by finding overlapping names."
   ]
  },
  {
   "cell_type": "code",
   "execution_count": 20,
   "metadata": {
    "execution": {
     "iopub.execute_input": "2023-05-09T12:51:58.948137Z",
     "iopub.status.busy": "2023-05-09T12:51:58.947381Z",
     "iopub.status.idle": "2023-05-09T12:51:59.006922Z",
     "shell.execute_reply": "2023-05-09T12:51:59.006234Z",
     "shell.execute_reply.started": "2023-05-09T12:09:13.689407Z"
    },
    "papermill": {
     "duration": 0.221777,
     "end_time": "2023-05-09T12:51:59.007171",
     "exception": false,
     "start_time": "2023-05-09T12:51:58.785394",
     "status": "completed"
    },
    "tags": [],
    "ExecuteTime": {
     "end_time": "2025-02-05T08:32:23.000481300Z",
     "start_time": "2025-02-05T08:32:22.870481600Z"
    }
   },
   "outputs": [],
   "source": [
    "data_sdf = ratings_sdf.join(users_sdf, [\"user_id\"]).join(movies_sdf, [\"movie_id\"])\n"
   ]
  },
  {
   "cell_type": "markdown",
   "metadata": {
    "papermill": {
     "duration": 0.152433,
     "end_time": "2023-05-09T12:51:59.330087",
     "exception": false,
     "start_time": "2023-05-09T12:51:59.177654",
     "status": "completed"
    },
    "tags": []
   },
   "source": [
    "Let's take a look at the merged data frame. "
   ]
  },
  {
   "cell_type": "code",
   "execution_count": 21,
   "metadata": {
    "execution": {
     "iopub.execute_input": "2023-05-09T12:51:59.642095Z",
     "iopub.status.busy": "2023-05-09T12:51:59.640999Z",
     "iopub.status.idle": "2023-05-09T12:52:00.610340Z",
     "shell.execute_reply": "2023-05-09T12:52:00.609516Z",
     "shell.execute_reply.started": "2023-05-09T12:09:13.767646Z"
    },
    "papermill": {
     "duration": 1.126629,
     "end_time": "2023-05-09T12:52:00.610565",
     "exception": false,
     "start_time": "2023-05-09T12:51:59.483936",
     "status": "completed"
    },
    "tags": [],
    "ExecuteTime": {
     "end_time": "2025-02-05T08:32:23.752100700Z",
     "start_time": "2025-02-05T08:32:22.933485Z"
    }
   },
   "outputs": [
    {
     "name": "stdout",
     "output_type": "stream",
     "text": [
      "+--------+-------+------+---------+------+---+----------+-----+--------------------+--------------------+\n",
      "|movie_id|user_id|rating|timestamp|gender|age|occupation|  zip|               title|              genres|\n",
      "+--------+-------+------+---------+------+---+----------+-----+--------------------+--------------------+\n",
      "|    1193|      1|     5|978300760|     F|  1|        10|48067|One Flew Over the...|               Drama|\n",
      "|     661|      1|     3|978302109|     F|  1|        10|48067|James and the Gia...|Animation|Childre...|\n",
      "|     914|      1|     3|978301968|     F|  1|        10|48067| My Fair Lady (1964)|     Musical|Romance|\n",
      "|    3408|      1|     4|978300275|     F|  1|        10|48067|Erin Brockovich (...|               Drama|\n",
      "|    2355|      1|     5|978824291|     F|  1|        10|48067|Bug's Life, A (1998)|Animation|Childre...|\n",
      "+--------+-------+------+---------+------+---+----------+-----+--------------------+--------------------+\n"
     ]
    }
   ],
   "source": [
    "data_sdf.show(5)"
   ]
  },
  {
   "cell_type": "markdown",
   "metadata": {
    "papermill": {
     "duration": 0.160506,
     "end_time": "2023-05-09T12:52:00.942899",
     "exception": false,
     "start_time": "2023-05-09T12:52:00.782393",
     "status": "completed"
    },
    "tags": []
   },
   "source": [
    "# Calculate mean movie ratings for each film by gender using the pivot table method\n",
    "\n",
    "The function pivot table reshapes the data frame depending on index and columns from input parameters. \n",
    "https://databricks.com/blog/2016/02/09/reshaping-data-with-pivot-in-apache-spark.html\n",
    "\n",
    "We create a new data frame with mean ratings for each move title and split gender as columns (F and M).  \n"
   ]
  },
  {
   "cell_type": "code",
   "execution_count": 22,
   "metadata": {
    "execution": {
     "iopub.execute_input": "2023-05-09T12:52:01.259897Z",
     "iopub.status.busy": "2023-05-09T12:52:01.259173Z",
     "iopub.status.idle": "2023-05-09T12:52:01.265065Z",
     "shell.execute_reply": "2023-05-09T12:52:01.265617Z",
     "shell.execute_reply.started": "2023-05-09T12:09:14.705873Z"
    },
    "papermill": {
     "duration": 0.166997,
     "end_time": "2023-05-09T12:52:01.265802",
     "exception": false,
     "start_time": "2023-05-09T12:52:01.098805",
     "status": "completed"
    },
    "tags": [],
    "ExecuteTime": {
     "end_time": "2025-02-05T08:32:23.754098800Z",
     "start_time": "2025-02-05T08:32:23.740102600Z"
    }
   },
   "outputs": [
    {
     "data": {
      "text/plain": "['movie_id',\n 'user_id',\n 'rating',\n 'timestamp',\n 'gender',\n 'age',\n 'occupation',\n 'zip',\n 'title',\n 'genres']"
     },
     "execution_count": 22,
     "metadata": {},
     "output_type": "execute_result"
    }
   ],
   "source": [
    "data_sdf.columns"
   ]
  },
  {
   "cell_type": "code",
   "execution_count": 23,
   "metadata": {
    "execution": {
     "iopub.execute_input": "2023-05-09T12:52:01.578248Z",
     "iopub.status.busy": "2023-05-09T12:52:01.577563Z",
     "iopub.status.idle": "2023-05-09T12:52:05.636744Z",
     "shell.execute_reply": "2023-05-09T12:52:05.635628Z",
     "shell.execute_reply.started": "2023-05-09T12:09:14.720038Z"
    },
    "papermill": {
     "duration": 4.216475,
     "end_time": "2023-05-09T12:52:05.637006",
     "exception": false,
     "start_time": "2023-05-09T12:52:01.420531",
     "status": "completed"
    },
    "tags": [],
    "ExecuteTime": {
     "end_time": "2025-02-05T08:32:26.012809100Z",
     "start_time": "2025-02-05T08:32:23.756102400Z"
    }
   },
   "outputs": [],
   "source": [
    "mean_ratings_pivot = data_sdf.groupBy(\"title\").pivot(\"gender\").agg(mean(\"rating\"))"
   ]
  },
  {
   "cell_type": "code",
   "execution_count": 24,
   "metadata": {
    "execution": {
     "iopub.execute_input": "2023-05-09T12:52:06.145997Z",
     "iopub.status.busy": "2023-05-09T12:52:06.144840Z",
     "iopub.status.idle": "2023-05-09T12:52:09.222901Z",
     "shell.execute_reply": "2023-05-09T12:52:09.221720Z",
     "shell.execute_reply.started": "2023-05-09T12:09:18.022946Z"
    },
    "papermill": {
     "duration": 3.323548,
     "end_time": "2023-05-09T12:52:09.223159",
     "exception": false,
     "start_time": "2023-05-09T12:52:05.899611",
     "status": "completed"
    },
    "tags": [],
    "ExecuteTime": {
     "end_time": "2025-02-05T08:32:29.105625900Z",
     "start_time": "2025-02-05T08:32:26.012809100Z"
    }
   },
   "outputs": [
    {
     "name": "stdout",
     "output_type": "stream",
     "text": [
      "+--------------------+------------------+------------------+\n",
      "|               title|                 F|                 M|\n",
      "+--------------------+------------------+------------------+\n",
      "|$1,000,000 Duck (...|             3.375| 2.761904761904762|\n",
      "|'Night Mother (1986)| 3.388888888888889|3.3529411764705883|\n",
      "|'Til There Was Yo...| 2.675675675675676|2.7333333333333334|\n",
      "|  'burbs, The (1989)|2.7934782608695654| 2.962085308056872|\n",
      "|...And Justice fo...|3.8285714285714287|3.6890243902439024|\n",
      "+--------------------+------------------+------------------+\n"
     ]
    }
   ],
   "source": [
    "mean_ratings_pivot.sort('title').show(5)"
   ]
  },
  {
   "cell_type": "markdown",
   "metadata": {
    "papermill": {
     "duration": 0.159709,
     "end_time": "2023-05-09T12:52:09.549333",
     "exception": false,
     "start_time": "2023-05-09T12:52:09.389624",
     "status": "completed"
    },
    "tags": []
   },
   "source": [
    "Filter movies with low rating (less than 250).\n",
    "* group data by title and get size() \n",
    "* extract list of titles with ratings by title >= 250\n",
    "* use list to select mean ratings\n"
   ]
  },
  {
   "cell_type": "code",
   "execution_count": 25,
   "metadata": {
    "execution": {
     "iopub.execute_input": "2023-05-09T12:52:09.881610Z",
     "iopub.status.busy": "2023-05-09T12:52:09.880946Z",
     "iopub.status.idle": "2023-05-09T12:52:12.091042Z",
     "shell.execute_reply": "2023-05-09T12:52:12.090115Z",
     "shell.execute_reply.started": "2023-05-09T12:09:21.095732Z"
    },
    "papermill": {
     "duration": 2.370947,
     "end_time": "2023-05-09T12:52:12.091261",
     "exception": false,
     "start_time": "2023-05-09T12:52:09.720314",
     "status": "completed"
    },
    "tags": [],
    "ExecuteTime": {
     "end_time": "2025-02-05T08:32:31.835447900Z",
     "start_time": "2025-02-05T08:32:29.107623900Z"
    }
   },
   "outputs": [
    {
     "name": "stdout",
     "output_type": "stream",
     "text": [
      "+--------------------+-----+\n",
      "|               title|count|\n",
      "+--------------------+-----+\n",
      "|$1,000,000 Duck (...|   37|\n",
      "|'Night Mother (1986)|   70|\n",
      "|'Til There Was Yo...|   52|\n",
      "|  'burbs, The (1989)|  303|\n",
      "|...And Justice fo...|  199|\n",
      "|        1-900 (1994)|    2|\n",
      "|10 Things I Hate ...|  700|\n",
      "|101 Dalmatians (1...|  565|\n",
      "|101 Dalmatians (1...|  364|\n",
      "| 12 Angry Men (1957)|  616|\n",
      "+--------------------+-----+\n"
     ]
    }
   ],
   "source": [
    "ratings_by_title_sdf = data_sdf.groupBy(\"title\").count()\n",
    "ratings_by_title_sdf.sort('title').show(10)"
   ]
  },
  {
   "cell_type": "code",
   "execution_count": 26,
   "metadata": {
    "execution": {
     "iopub.execute_input": "2023-05-09T12:52:12.428683Z",
     "iopub.status.busy": "2023-05-09T12:52:12.428001Z",
     "iopub.status.idle": "2023-05-09T12:52:14.148231Z",
     "shell.execute_reply": "2023-05-09T12:52:14.147264Z",
     "shell.execute_reply.started": "2023-05-09T12:09:23.144557Z"
    },
    "papermill": {
     "duration": 1.87823,
     "end_time": "2023-05-09T12:52:14.148448",
     "exception": false,
     "start_time": "2023-05-09T12:52:12.270218",
     "status": "completed"
    },
    "tags": [],
    "ExecuteTime": {
     "end_time": "2025-02-05T08:32:33.924390400Z",
     "start_time": "2025-02-05T08:32:31.828446100Z"
    }
   },
   "outputs": [
    {
     "name": "stdout",
     "output_type": "stream",
     "text": [
      "+--------------------+-----+\n",
      "|               title|count|\n",
      "+--------------------+-----+\n",
      "|  'burbs, The (1989)|  303|\n",
      "|10 Things I Hate ...|  700|\n",
      "|101 Dalmatians (1...|  565|\n",
      "|101 Dalmatians (1...|  364|\n",
      "| 12 Angry Men (1957)|  616|\n",
      "|13th Warrior, The...|  750|\n",
      "|2 Days in the Val...|  286|\n",
      "|20,000 Leagues Un...|  575|\n",
      "|2001: A Space Ody...| 1716|\n",
      "|         2010 (1984)|  470|\n",
      "+--------------------+-----+\n"
     ]
    }
   ],
   "source": [
    "active_titles_sdf = ratings_by_title_sdf.filter(col('count') >= 250)\n",
    "active_titles_sdf.sort('title').show(10)"
   ]
  },
  {
   "cell_type": "code",
   "execution_count": 27,
   "metadata": {
    "execution": {
     "iopub.execute_input": "2023-05-09T12:52:14.481200Z",
     "iopub.status.busy": "2023-05-09T12:52:14.480234Z",
     "iopub.status.idle": "2023-05-09T12:52:16.491810Z",
     "shell.execute_reply": "2023-05-09T12:52:16.493196Z",
     "shell.execute_reply.started": "2023-05-09T12:09:24.768528Z"
    },
    "papermill": {
     "duration": 2.172681,
     "end_time": "2023-05-09T12:52:16.493473",
     "exception": false,
     "start_time": "2023-05-09T12:52:14.320792",
     "status": "completed"
    },
    "tags": [],
    "ExecuteTime": {
     "end_time": "2025-02-05T08:32:36.887146400Z",
     "start_time": "2025-02-05T08:32:33.930393500Z"
    }
   },
   "outputs": [
    {
     "data": {
      "text/plain": "[\"'burbs, The (1989)\",\n '10 Things I Hate About You (1999)',\n '101 Dalmatians (1961)',\n '101 Dalmatians (1996)',\n '12 Angry Men (1957)']"
     },
     "execution_count": 27,
     "metadata": {},
     "output_type": "execute_result"
    }
   ],
   "source": [
    "active_titles_list = [row.title for row in active_titles_sdf.sort('title').select('title').collect()]\n",
    "active_titles_list[:5]"
   ]
  },
  {
   "cell_type": "code",
   "execution_count": 28,
   "metadata": {
    "execution": {
     "iopub.execute_input": "2023-05-09T12:52:16.834792Z",
     "iopub.status.busy": "2023-05-09T12:52:16.834140Z",
     "iopub.status.idle": "2023-05-09T12:52:22.094546Z",
     "shell.execute_reply": "2023-05-09T12:52:22.093410Z",
     "shell.execute_reply.started": "2023-05-09T12:09:26.767543Z"
    },
    "papermill": {
     "duration": 5.423875,
     "end_time": "2023-05-09T12:52:22.094808",
     "exception": false,
     "start_time": "2023-05-09T12:52:16.670933",
     "status": "completed"
    },
    "tags": [],
    "ExecuteTime": {
     "end_time": "2025-02-05T08:32:42.519274100Z",
     "start_time": "2025-02-05T08:32:36.875526Z"
    }
   },
   "outputs": [
    {
     "name": "stdout",
     "output_type": "stream",
     "text": [
      "+--------------------+------------------+------------------+\n",
      "|               title|                 F|                 M|\n",
      "+--------------------+------------------+------------------+\n",
      "|  'burbs, The (1989)|2.7934782608695654| 2.962085308056872|\n",
      "|10 Things I Hate ...| 3.646551724137931|3.3119658119658117|\n",
      "|101 Dalmatians (1...|3.7914438502673797|               3.5|\n",
      "|101 Dalmatians (1...|              3.24| 2.911214953271028|\n",
      "| 12 Angry Men (1957)| 4.184397163120567| 4.328421052631579|\n",
      "+--------------------+------------------+------------------+\n"
     ]
    }
   ],
   "source": [
    "mean_ratings_sdf = mean_ratings_pivot.sort('title').filter(col('title').isin(active_titles_list))\n",
    "mean_ratings_sdf.show(5)"
   ]
  },
  {
   "cell_type": "markdown",
   "metadata": {
    "papermill": {
     "duration": 0.15395,
     "end_time": "2023-05-09T12:52:22.404540",
     "exception": false,
     "start_time": "2023-05-09T12:52:22.250590",
     "status": "completed"
    },
    "tags": []
   },
   "source": [
    "### Show the top list of movies"
   ]
  },
  {
   "cell_type": "code",
   "execution_count": 29,
   "metadata": {
    "execution": {
     "iopub.execute_input": "2023-05-09T12:52:22.718634Z",
     "iopub.status.busy": "2023-05-09T12:52:22.717891Z",
     "iopub.status.idle": "2023-05-09T12:52:24.778585Z",
     "shell.execute_reply": "2023-05-09T12:52:24.777703Z",
     "shell.execute_reply.started": "2023-05-09T12:09:31.352787Z"
    },
    "papermill": {
     "duration": 2.21991,
     "end_time": "2023-05-09T12:52:24.778825",
     "exception": false,
     "start_time": "2023-05-09T12:52:22.558915",
     "status": "completed"
    },
    "tags": [],
    "ExecuteTime": {
     "end_time": "2025-02-05T08:32:45.618636100Z",
     "start_time": "2025-02-05T08:32:42.506270100Z"
    }
   },
   "outputs": [
    {
     "name": "stdout",
     "output_type": "stream",
     "text": [
      "+--------------------+-----------------+------------------+\n",
      "|               title|                F|                 M|\n",
      "+--------------------+-----------------+------------------+\n",
      "|Close Shave, A (1...|4.644444444444445| 4.473794549266247|\n",
      "|Wrong Trousers, T...|4.588235294117647| 4.478260869565218|\n",
      "|Sunset Blvd. (a.k...|4.572649572649572|4.4645892351274785|\n",
      "|Wallace & Gromit:...|4.563106796116505| 4.385074626865672|\n",
      "|Schindler's List ...| 4.56260162601626|  4.49141503848431|\n",
      "|Shawshank Redempt...|4.539074960127592|          4.560625|\n",
      "|Grand Day Out, A ...|4.537878787878788| 4.293255131964809|\n",
      "|To Kill a Mocking...|4.536666666666667| 4.372611464968153|\n",
      "|Creature Comforts...|4.513888888888889| 4.272277227722772|\n",
      "|Usual Suspects, T...|4.513317191283293| 4.518248175182482|\n",
      "+--------------------+-----------------+------------------+\n"
     ]
    }
   ],
   "source": [
    "top_female_ratings_sdf = mean_ratings_sdf.sort(mean_ratings_sdf.F.desc())\n",
    "top_female_ratings_sdf.show(10)"
   ]
  },
  {
   "cell_type": "code",
   "execution_count": 30,
   "metadata": {
    "execution": {
     "iopub.execute_input": "2023-05-09T12:52:25.114110Z",
     "iopub.status.busy": "2023-05-09T12:52:25.112588Z",
     "iopub.status.idle": "2023-05-09T12:52:27.224349Z",
     "shell.execute_reply": "2023-05-09T12:52:27.223399Z",
     "shell.execute_reply.started": "2023-05-09T12:09:33.302403Z"
    },
    "papermill": {
     "duration": 2.272476,
     "end_time": "2023-05-09T12:52:27.224585",
     "exception": false,
     "start_time": "2023-05-09T12:52:24.952109",
     "status": "completed"
    },
    "tags": [],
    "ExecuteTime": {
     "end_time": "2025-02-05T08:32:48.628581900Z",
     "start_time": "2025-02-05T08:32:45.620639600Z"
    }
   },
   "outputs": [
    {
     "name": "stdout",
     "output_type": "stream",
     "text": [
      "+--------------------+------------------+------------------+\n",
      "|               title|                 F|                 M|\n",
      "+--------------------+------------------+------------------+\n",
      "|Godfather, The (1...|4.3146997929606625| 4.583333333333333|\n",
      "|Seven Samurai (Th...| 4.481132075471698| 4.576628352490421|\n",
      "|Shawshank Redempt...| 4.539074960127592|          4.560625|\n",
      "|Raiders of the Lo...|4.3321678321678325| 4.520597322348094|\n",
      "|Usual Suspects, T...| 4.513317191283293| 4.518248175182482|\n",
      "|Star Wars: Episod...| 4.302936630602782| 4.495307167235495|\n",
      "|Schindler's List ...|  4.56260162601626|  4.49141503848431|\n",
      "|Wrong Trousers, T...| 4.588235294117647| 4.478260869565218|\n",
      "|Close Shave, A (1...| 4.644444444444445| 4.473794549266247|\n",
      "|  Rear Window (1954)| 4.484536082474227|4.4729907773386035|\n",
      "+--------------------+------------------+------------------+\n"
     ]
    }
   ],
   "source": [
    "top_male_ratings_sdf = mean_ratings_sdf.sort(mean_ratings_sdf.M.desc())\n",
    "top_male_ratings_sdf.show(10)"
   ]
  },
  {
   "cell_type": "markdown",
   "metadata": {
    "papermill": {
     "duration": 0.191842,
     "end_time": "2023-05-09T12:52:27.598307",
     "exception": false,
     "start_time": "2023-05-09T12:52:27.406465",
     "status": "completed"
    },
    "tags": []
   },
   "source": [
    "# Measuring Rating Disagreement\n",
    "\n",
    "Here we want to find the movies that are most different between male and female users. "
   ]
  },
  {
   "cell_type": "code",
   "execution_count": 31,
   "metadata": {
    "execution": {
     "iopub.execute_input": "2023-05-09T12:52:27.918883Z",
     "iopub.status.busy": "2023-05-09T12:52:27.917800Z",
     "iopub.status.idle": "2023-05-09T12:52:27.946764Z",
     "shell.execute_reply": "2023-05-09T12:52:27.946045Z",
     "shell.execute_reply.started": "2023-05-09T12:09:35.108676Z"
    },
    "papermill": {
     "duration": 0.189274,
     "end_time": "2023-05-09T12:52:27.946947",
     "exception": false,
     "start_time": "2023-05-09T12:52:27.757673",
     "status": "completed"
    },
    "tags": [],
    "ExecuteTime": {
     "end_time": "2025-02-05T08:32:48.730574300Z",
     "start_time": "2025-02-05T08:32:48.631579200Z"
    }
   },
   "outputs": [],
   "source": [
    "mean_ratings_sdf = mean_ratings_sdf.withColumn('diff', mean_ratings_sdf['M'] - mean_ratings_sdf['F'])"
   ]
  },
  {
   "cell_type": "markdown",
   "metadata": {
    "papermill": {
     "duration": 0.156236,
     "end_time": "2023-05-09T12:52:28.259380",
     "exception": false,
     "start_time": "2023-05-09T12:52:28.103144",
     "status": "completed"
    },
    "tags": []
   },
   "source": [
    "Sorting ascending my diff shows us the movies that are rated high by women, but low by men."
   ]
  },
  {
   "cell_type": "code",
   "execution_count": 32,
   "metadata": {
    "execution": {
     "iopub.execute_input": "2023-05-09T12:52:28.575353Z",
     "iopub.status.busy": "2023-05-09T12:52:28.574213Z",
     "iopub.status.idle": "2023-05-09T12:52:30.711792Z",
     "shell.execute_reply": "2023-05-09T12:52:30.711243Z",
     "shell.execute_reply.started": "2023-05-09T12:09:35.143021Z"
    },
    "papermill": {
     "duration": 2.298463,
     "end_time": "2023-05-09T12:52:30.711971",
     "exception": false,
     "start_time": "2023-05-09T12:52:28.413508",
     "status": "completed"
    },
    "tags": [],
    "ExecuteTime": {
     "end_time": "2025-02-05T08:32:52.233308100Z",
     "start_time": "2025-02-05T08:32:48.672576400Z"
    }
   },
   "outputs": [
    {
     "name": "stdout",
     "output_type": "stream",
     "text": [
      "+--------------------+------------------+------------------+-------------------+\n",
      "|               title|                 F|                 M|               diff|\n",
      "+--------------------+------------------+------------------+-------------------+\n",
      "|Dirty Dancing (1987)| 3.790378006872852|  2.95959595959596|-0.8307820472768923|\n",
      "|Jumpin' Jack Flas...|3.2547169811320753| 2.578358208955224|-0.6763587721768514|\n",
      "|       Grease (1978)|3.9752650176678443|3.3670411985018727|-0.6082238191659717|\n",
      "| Little Women (1994)|3.8705882352941177|3.3217391304347825|-0.5488491048593351|\n",
      "|Steel Magnolias (...| 3.901734104046243|3.3659574468085105|-0.5357766572377325|\n",
      "|    Anastasia (1997)|               3.8| 3.281609195402299| -0.518390804597701|\n",
      "|Rocky Horror Pict...| 3.673015873015873|3.1601307189542482|-0.5128851540616246|\n",
      "|Color Purple, The...|  4.15819209039548| 3.659340659340659|-0.4988514310548209|\n",
      "|Age of Innocence,...| 3.827067669172932|3.3395061728395063|-0.4875614963334258|\n",
      "|   Free Willy (1993)|2.9213483146067416| 2.438775510204082|-0.4825728044026598|\n",
      "+--------------------+------------------+------------------+-------------------+\n"
     ]
    }
   ],
   "source": [
    "mean_ratings_sdf.sort(mean_ratings_sdf.diff.asc()).show(10)"
   ]
  },
  {
   "cell_type": "markdown",
   "metadata": {
    "papermill": {
     "duration": 0.157036,
     "end_time": "2023-05-09T12:52:31.029268",
     "exception": false,
     "start_time": "2023-05-09T12:52:30.872232",
     "status": "completed"
    },
    "tags": []
   },
   "source": [
    "Reversing the order shows us the movies that are rated how by men and low by woman. "
   ]
  },
  {
   "cell_type": "code",
   "execution_count": 33,
   "metadata": {
    "execution": {
     "iopub.execute_input": "2023-05-09T12:52:31.348791Z",
     "iopub.status.busy": "2023-05-09T12:52:31.347920Z",
     "iopub.status.idle": "2023-05-09T12:52:33.232823Z",
     "shell.execute_reply": "2023-05-09T12:52:33.232107Z",
     "shell.execute_reply.started": "2023-05-09T12:09:37.109262Z"
    },
    "papermill": {
     "duration": 2.046312,
     "end_time": "2023-05-09T12:52:33.233075",
     "exception": false,
     "start_time": "2023-05-09T12:52:31.186763",
     "status": "completed"
    },
    "tags": [],
    "ExecuteTime": {
     "end_time": "2025-02-05T08:32:55.751224200Z",
     "start_time": "2025-02-05T08:32:52.219308900Z"
    }
   },
   "outputs": [
    {
     "name": "stdout",
     "output_type": "stream",
     "text": [
      "+--------------------+------------------+------------------+------------------+\n",
      "|               title|                 F|                 M|              diff|\n",
      "+--------------------+------------------+------------------+------------------+\n",
      "|Good, The Bad and...| 3.494949494949495|4.2213001383125865|0.7263506433630917|\n",
      "|Kentucky Fried Mo...| 2.878787878787879|3.5551470588235294|0.6763591800356505|\n",
      "|Dumb & Dumber (1994)| 2.697986577181208| 3.336594911937378|  0.63860833475617|\n",
      "|Longest Day, The ...| 3.411764705882353| 4.031446540880503|0.6196818349981501|\n",
      "|Cable Guy, The (1...|              2.25|2.8637873754152823|0.6137873754152823|\n",
      "|Evil Dead II (Dea...|3.2972972972972974| 3.909282700421941|0.6119854031246437|\n",
      "|  Hidden, The (1987)|3.1379310344827585|3.7450980392156863|0.6071670047329278|\n",
      "|    Rocky III (1982)|2.3617021276595747| 2.943502824858757|0.5818006971991823|\n",
      "|   Caddyshack (1980)| 3.396135265700483| 3.969736842105263|0.5736015764047799|\n",
      "|For a Few Dollars...| 3.409090909090909| 3.953795379537954|0.5447044704470447|\n",
      "+--------------------+------------------+------------------+------------------+\n"
     ]
    }
   ],
   "source": [
    "mean_ratings_sdf.sort(mean_ratings_sdf.diff.desc()).show(10)"
   ]
  },
  {
   "cell_type": "markdown",
   "metadata": {
    "papermill": {
     "duration": 0.169639,
     "end_time": "2023-05-09T12:52:33.570761",
     "exception": false,
     "start_time": "2023-05-09T12:52:33.401122",
     "status": "completed"
    },
    "tags": []
   },
   "source": [
    "Finding movies with highest disagreement of viewers independent of gender:\n",
    "* calculate variance and standard deviation of the ratings\n",
    "* filter titles with ratings equal or higher 250 (list active_titles from earlier) \n",
    "* sort movies in descending order"
   ]
  },
  {
   "cell_type": "code",
   "execution_count": 34,
   "metadata": {
    "execution": {
     "iopub.execute_input": "2023-05-09T12:52:33.896685Z",
     "iopub.status.busy": "2023-05-09T12:52:33.895983Z",
     "iopub.status.idle": "2023-05-09T12:52:33.899224Z",
     "shell.execute_reply": "2023-05-09T12:52:33.898531Z",
     "shell.execute_reply.started": "2023-05-09T12:09:38.827577Z"
    },
    "papermill": {
     "duration": 0.170076,
     "end_time": "2023-05-09T12:52:33.899382",
     "exception": false,
     "start_time": "2023-05-09T12:52:33.729306",
     "status": "completed"
    },
    "tags": [],
    "ExecuteTime": {
     "end_time": "2025-02-05T08:32:55.797221200Z",
     "start_time": "2025-02-05T08:32:55.751224200Z"
    }
   },
   "outputs": [],
   "source": [
    "from pyspark.sql.functions import mean, stddev, col"
   ]
  },
  {
   "cell_type": "code",
   "execution_count": 35,
   "metadata": {
    "execution": {
     "iopub.execute_input": "2023-05-09T12:52:34.264906Z",
     "iopub.status.busy": "2023-05-09T12:52:34.263834Z",
     "iopub.status.idle": "2023-05-09T12:52:36.312426Z",
     "shell.execute_reply": "2023-05-09T12:52:36.311474Z",
     "shell.execute_reply.started": "2023-05-09T12:09:38.835297Z"
    },
    "papermill": {
     "duration": 2.256268,
     "end_time": "2023-05-09T12:52:36.312648",
     "exception": false,
     "start_time": "2023-05-09T12:52:34.056380",
     "status": "completed"
    },
    "tags": [],
    "ExecuteTime": {
     "end_time": "2025-02-05T08:32:58.530101700Z",
     "start_time": "2025-02-05T08:32:55.769223400Z"
    }
   },
   "outputs": [
    {
     "name": "stdout",
     "output_type": "stream",
     "text": [
      "+--------------------+------------------+\n",
      "|               title|               std|\n",
      "+--------------------+------------------+\n",
      "|$1,000,000 Duck (...| 1.092562901481509|\n",
      "|'Night Mother (1986)|1.1186356670934383|\n",
      "|'Til There Was Yo...| 1.020158802295237|\n",
      "|  'burbs, The (1989)|1.1077601938323738|\n",
      "|...And Justice fo...|0.8781102494980857|\n",
      "+--------------------+------------------+\n"
     ]
    }
   ],
   "source": [
    "rating_std_by_title_sdf = data_sdf.groupBy('title').agg(stddev(col('rating')).alias('std'))\n",
    "rating_std_by_title_sdf.sort('title').show(5)"
   ]
  },
  {
   "cell_type": "code",
   "execution_count": 36,
   "metadata": {
    "execution": {
     "iopub.execute_input": "2023-05-09T12:52:36.690224Z",
     "iopub.status.busy": "2023-05-09T12:52:36.689196Z",
     "iopub.status.idle": "2023-05-09T12:52:40.332907Z",
     "shell.execute_reply": "2023-05-09T12:52:40.331829Z",
     "shell.execute_reply.started": "2023-05-09T12:09:40.411532Z"
    },
    "papermill": {
     "duration": 3.847574,
     "end_time": "2023-05-09T12:52:40.333158",
     "exception": false,
     "start_time": "2023-05-09T12:52:36.485584",
     "status": "completed"
    },
    "tags": [],
    "ExecuteTime": {
     "end_time": "2025-02-05T08:33:02.729562400Z",
     "start_time": "2025-02-05T08:32:58.538101200Z"
    }
   },
   "outputs": [
    {
     "name": "stdout",
     "output_type": "stream",
     "text": [
      "+--------------------+------------------+\n",
      "|               title|               std|\n",
      "+--------------------+------------------+\n",
      "|Dumb & Dumber (1994)|1.3213331436461841|\n",
      "|Blair Witch Proje...|1.3163677138860728|\n",
      "|Natural Born Kill...|1.3071976069005837|\n",
      "|    Tank Girl (1995)| 1.277695392561525|\n",
      "|Rocky Horror Pict...|1.2601772839374215|\n",
      "|Eyes Wide Shut (1...| 1.259623523675699|\n",
      "|        Evita (1996)|1.2536310553940435|\n",
      "|Billy Madison (1995)| 1.249970159586527|\n",
      "|Fear and Loathing...|1.2464080767555825|\n",
      "|Bicentennial Man ...|1.2455325276601854|\n",
      "+--------------------+------------------+\n"
     ]
    }
   ],
   "source": [
    "rating_std_by_title_sdf = rating_std_by_title_sdf.filter(col('title').isin(active_titles_list))\n",
    "rating_std_by_title_sdf.sort(rating_std_by_title_sdf.std.desc()).show(10)"
   ]
  },
  {
   "cell_type": "code",
   "execution_count": 37,
   "metadata": {
    "execution": {
     "iopub.execute_input": "2023-05-09T12:52:40.662797Z",
     "iopub.status.busy": "2023-05-09T12:52:40.662121Z",
     "iopub.status.idle": "2023-05-09T12:52:40.677797Z",
     "shell.execute_reply": "2023-05-09T12:52:40.677125Z",
     "shell.execute_reply.started": "2023-05-09T12:09:43.648372Z"
    },
    "papermill": {
     "duration": 0.179165,
     "end_time": "2023-05-09T12:52:40.677970",
     "exception": false,
     "start_time": "2023-05-09T12:52:40.498805",
     "status": "completed"
    },
    "tags": [],
    "ExecuteTime": {
     "end_time": "2025-02-05T08:33:02.782560400Z",
     "start_time": "2025-02-05T08:33:02.718564500Z"
    }
   },
   "outputs": [
    {
     "data": {
      "text/plain": "DataFrame[title: string, std: double]"
     },
     "metadata": {},
     "output_type": "display_data"
    }
   ],
   "source": [
    "display(rating_std_by_title_sdf.sort(rating_std_by_title_sdf.std.desc()))"
   ]
  },
  {
   "cell_type": "code",
   "execution_count": 37,
   "metadata": {
    "papermill": {
     "duration": 0.156755,
     "end_time": "2023-05-09T12:52:40.992292",
     "exception": false,
     "start_time": "2023-05-09T12:52:40.835537",
     "status": "completed"
    },
    "tags": [],
    "ExecuteTime": {
     "end_time": "2025-02-05T08:33:02.830561400Z",
     "start_time": "2025-02-05T08:33:02.746561700Z"
    }
   },
   "outputs": [],
   "source": []
  }
 ],
 "metadata": {
  "kernelspec": {
   "display_name": "Python 3",
   "language": "python",
   "name": "python3"
  },
  "language_info": {
   "codemirror_mode": {
    "name": "ipython",
    "version": 3
   },
   "file_extension": ".py",
   "mimetype": "text/x-python",
   "name": "python",
   "nbconvert_exporter": "python",
   "pygments_lexer": "ipython3",
   "version": "3.7.9"
  },
  "papermill": {
   "default_parameters": {},
   "duration": 122.084674,
   "end_time": "2023-05-09T12:52:41.863585",
   "environment_variables": {},
   "exception": null,
   "input_path": "__notebook__.ipynb",
   "output_path": "__notebook__.ipynb",
   "parameters": {},
   "start_time": "2023-05-09T12:50:39.778911",
   "version": "2.2.2"
  }
 },
 "nbformat": 4,
 "nbformat_minor": 4
}
